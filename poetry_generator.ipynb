{
  "nbformat": 4,
  "nbformat_minor": 0,
  "metadata": {
    "colab": {
      "provenance": []
    },
    "kernelspec": {
      "name": "python3",
      "display_name": "Python 3"
    },
    "language_info": {
      "name": "python"
    }
  },
  "cells": [
    {
      "cell_type": "code",
      "execution_count": null,
      "metadata": {
        "id": "4qJd7bVCuG4Y"
      },
      "outputs": [],
      "source": [
        "import numpy as np\n",
        "import string\n",
        "import pandas as pd\n"
      ]
    },
    {
      "cell_type": "code",
      "source": [
        "initial={}\n",
        "first_order={}\n",
        "second_order={}"
      ],
      "metadata": {
        "id": "2xE0uqeqvT0V"
      },
      "execution_count": null,
      "outputs": []
    },
    {
      "cell_type": "code",
      "source": [
        "def remove_punctuation(s):\n",
        "  return s.translate(str.maketrans('','',string.punctuation))"
      ],
      "metadata": {
        "id": "g7J8UVpavjUt"
      },
      "execution_count": null,
      "outputs": []
    },
    {
      "cell_type": "code",
      "source": [
        "!wget -nc https://raw.githubusercontent.com/lazyprogrammer/machine_learning_examples/master/hmm_class/robert_frost.txt\n"
      ],
      "metadata": {
        "colab": {
          "base_uri": "https://localhost:8080/"
        },
        "id": "8wUfj0Jpv7uj",
        "outputId": "172da2b4-382b-4d4e-ec3b-55fb1079865d"
      },
      "execution_count": null,
      "outputs": [
        {
          "output_type": "stream",
          "name": "stdout",
          "text": [
            "--2024-02-19 10:54:25--  https://raw.githubusercontent.com/lazyprogrammer/machine_learning_examples/master/hmm_class/robert_frost.txt\n",
            "Resolving raw.githubusercontent.com (raw.githubusercontent.com)... 185.199.111.133, 185.199.108.133, 185.199.110.133, ...\n",
            "Connecting to raw.githubusercontent.com (raw.githubusercontent.com)|185.199.111.133|:443... connected.\n",
            "HTTP request sent, awaiting response... 200 OK\n",
            "Length: 56286 (55K) [text/plain]\n",
            "Saving to: ‘robert_frost.txt’\n",
            "\n",
            "\rrobert_frost.txt      0%[                    ]       0  --.-KB/s               \rrobert_frost.txt    100%[===================>]  54.97K  --.-KB/s    in 0.007s  \n",
            "\n",
            "2024-02-19 10:54:25 (7.53 MB/s) - ‘robert_frost.txt’ saved [56286/56286]\n",
            "\n"
          ]
        }
      ]
    },
    {
      "cell_type": "code",
      "source": [
        "def add2dic(d,k,v):\n",
        "  if k not in d:\n",
        "    d[k]=[]\n",
        "    d[k].append(v)"
      ],
      "metadata": {
        "id": "EHgDdRSKxAMc"
      },
      "execution_count": null,
      "outputs": []
    },
    {
      "cell_type": "code",
      "source": [
        "for line in open('robert_frost.txt'):\n",
        "  tokens=remove_punctuation(line.rstrip().lower()).split()\n",
        "\n",
        "  T=len(tokens)\n",
        "\n",
        "  for i in range(T):\n",
        "    t=tokens[i]\n",
        "    if i==0:\n",
        "      initial[t]=initial.get(t,0.)+1\n",
        "    else:\n",
        "      t_1=tokens[i-1]\n",
        "      if i==T-1:\n",
        "        add2dic(second_order,(t_1,t),'END')\n",
        "      if i==1:\n",
        "        add2dic(first_order,t_1,t)\n",
        "      else:\n",
        "        t_2=tokens[i-2]\n",
        "        add2dic(second_order,(t_2,t_1),t)\n",
        "\n"
      ],
      "metadata": {
        "id": "CYzP6ZIzxPMD"
      },
      "execution_count": null,
      "outputs": []
    },
    {
      "cell_type": "code",
      "source": [
        "initial_total=sum(initial.values())\n",
        "for t,c in initial.items():\n",
        "  initial[t]=c/initial_total"
      ],
      "metadata": {
        "id": "GjUjjGwg38zm"
      },
      "execution_count": null,
      "outputs": []
    },
    {
      "cell_type": "code",
      "source": [
        "def list2dic(ts):\n",
        "  d={}\n",
        "  n=len(ts)\n",
        "  for t in ts:\n",
        "    d[t]=d.get(t,0.)+ 1\n",
        "  for t, c in d.items():\n",
        "      d[t]=c/n\n",
        "  return d\n"
      ],
      "metadata": {
        "id": "Ys3BSCGa5QH9"
      },
      "execution_count": null,
      "outputs": []
    },
    {
      "cell_type": "code",
      "source": [
        "for t_1,ts in first_order.items():\n",
        "  first_order[t_1]=list2dic(ts)"
      ],
      "metadata": {
        "id": "Am6eZxwg7XT2"
      },
      "execution_count": null,
      "outputs": []
    },
    {
      "cell_type": "code",
      "source": [
        "for k,ts in second_order.items():\n",
        "  second_order[k]=list2dic(ts)"
      ],
      "metadata": {
        "id": "eYUpRpht98b9"
      },
      "execution_count": null,
      "outputs": []
    },
    {
      "cell_type": "code",
      "source": [
        "def sample_word(d):\n",
        "  p0=np.random.random()\n",
        "  commulative=0\n",
        "  for t,p in d.items():\n",
        "    commulative += p\n",
        "    if p0 < commulative:\n",
        "      return t\n",
        "  assert(False)"
      ],
      "metadata": {
        "id": "u0cf_Iw_-JzN"
      },
      "execution_count": null,
      "outputs": []
    },
    {
      "cell_type": "code",
      "source": [
        "def generate():\n",
        "  for i in range(4):\n",
        "    sentence=[]\n",
        "    w0 = sample_word(initial)\n",
        "    sentence.append(w0)\n",
        "\n",
        "    w1 = sample_word(first_order[w0])\n",
        "    sentence.append(w1)\n",
        "\n",
        "\n",
        "    while True:\n",
        "      w2 = sample_word(second_order[(w0,w1)])\n",
        "      if w2=='END':\n",
        "        break\n",
        "      sentence.append(w2)\n",
        "      w0=w1\n",
        "      w1=w2\n",
        "    print(' ',' ' .join(sentence))\n",
        "\n",
        "\n",
        "\n",
        "\n",
        "\n"
      ],
      "metadata": {
        "id": "VzXv_YF6BPz_"
      },
      "execution_count": null,
      "outputs": []
    },
    {
      "cell_type": "code",
      "source": [
        "generate()"
      ],
      "metadata": {
        "colab": {
          "base_uri": "https://localhost:8080/"
        },
        "id": "-9VzcZHEDt-u",
        "outputId": "fdcff896-83a5-4e76-bcfc-88256eba6698"
      },
      "execution_count": null,
      "outputs": [
        {
          "output_type": "stream",
          "name": "stdout",
          "text": [
            "  when far away an interrupted cry\n",
            "  i doubted if i should ever come back\n",
            "  when far away an interrupted cry\n",
            "  then took the other as just as fair\n"
          ]
        }
      ]
    }
  ]
}